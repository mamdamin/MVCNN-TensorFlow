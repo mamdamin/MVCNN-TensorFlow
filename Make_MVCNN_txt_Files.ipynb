{
 "cells": [
  {
   "cell_type": "markdown",
   "metadata": {},
   "source": [
    "#### Read png file pathes and make txt files for MV_CNN code"
   ]
  },
  {
   "cell_type": "code",
   "execution_count": 1,
   "metadata": {},
   "outputs": [
    {
     "name": "stdout",
     "output_type": "stream",
     "text": [
      "(2630, 4)\n",
      "(2409, 4)\n",
      "2409\n"
     ]
    }
   ],
   "source": [
    "import sys\n",
    "#import numpy as np\n",
    "import glob\n",
    "#import re\n",
    "#from PIL import Image\n",
    "import random\n",
    "import pandas as pd\n",
    "import os\n",
    "\n",
    "\n",
    "RootFolder = '/Shared/CTmechanics_COPDGene/Amin/MV_CNN_views'\n",
    "subjects   = os.listdir(RootFolder)\n",
    "\n",
    "airwayPhenotypes = pd.read_csv('Data/airway_phenotypes_for_fgf10_replication.csv',index_col=0)\n",
    "cleanup_nums = {\"Lower_lobe_segmental_status\":     {\"Standard\": 0, \"Acc. B*\": 1, \"Abs. RB7\": 1}}\n",
    "airwayPhenotypes.replace(cleanup_nums, inplace=True)\n",
    "#print(airwayPhenotypes.head(2))\n",
    "#sid = intersection(subjects,airwayPhenotypes.index.tolist())\n",
    "#print(len(sid))\n",
    "print(airwayPhenotypes.shape)\n",
    "\n",
    "images = glob.glob(RootFolder+'/**/*.png')\n",
    "airwayPhenotypes = airwayPhenotypes.loc[airwayPhenotypes.index.intersection(subjects)]\n",
    "subjects = airwayPhenotypes.index.tolist()\n",
    "\n",
    "print(airwayPhenotypes.shape)\n",
    "print(len(subjects))"
   ]
  },
  {
   "cell_type": "code",
   "execution_count": 2,
   "metadata": {},
   "outputs": [
    {
     "name": "stdout",
     "output_type": "stream",
     "text": [
      "135984\n"
     ]
    }
   ],
   "source": [
    "print(len(images))"
   ]
  },
  {
   "cell_type": "markdown",
   "metadata": {},
   "source": [
    "#### Bundle png images in txt file for use in MV-CNN"
   ]
  },
  {
   "cell_type": "code",
   "execution_count": 7,
   "metadata": {},
   "outputs": [
    {
     "name": "stdout",
     "output_type": "stream",
     "text": [
      "txtImages already exists\n",
      "sets already exists\n"
     ]
    }
   ],
   "source": [
    "#order = range(48)#[0,1,4,5,6,7,8,9,10,11,2,3]\n",
    "df = airwayPhenotypes.loc[:,['Lower_lobe_segmental_status']]\n",
    "try:\n",
    "    os.mkdir(os.path.join(RootFolder,'txtImages'))\n",
    "except:\n",
    "    print('txtImages already exists')\n",
    "try:\n",
    "    os.mkdir(os.path.join(RootFolder,'sets'))\n",
    "except:\n",
    "    print('sets already exists')\n",
    "\n",
    "    #df.rename(index=str, columns={\"A\": \"a\"\n",
    "for subject in subjects:\n",
    "    folder = os.path.join(RootFolder,subject)\n",
    "    images = glob.glob(folder+'/*.png')\n",
    "    images.sort()\n",
    "    pre = [1, len(images)]\n",
    "    pre = [airwayPhenotypes.loc[subject,'Lower_lobe_segmental_status'], len(images)]\n",
    "    filename   = subject+'_Cat_{}.txt'.format(pre[0])\n",
    "    thefile = open(os.path.join(RootFolder,'txtImages',filename), 'w')\n",
    "    images = pre+images#[ images[i] for i in order]\n",
    "    for item in images:\n",
    "        thefile.write(\"%s\\n\" % item)\n",
    "    thefile.close()\n",
    "    df.loc[subject,'txtImages'] = os.path.join(RootFolder,'txtImages',filename)\n",
    "    #print(subject)"
   ]
  },
  {
   "cell_type": "code",
   "execution_count": 8,
   "metadata": {},
   "outputs": [
    {
     "name": "stdout",
     "output_type": "stream",
     "text": [
      "          Lower_lobe_segmental_status  \\\n",
      "CU100010                            1   \n",
      "CU100047                            0   \n",
      "\n",
      "                                                  txtImages  \n",
      "CU100010  /Shared/CTmechanics_COPDGene/Amin/MV_CNN_views...  \n",
      "CU100047  /Shared/CTmechanics_COPDGene/Amin/MV_CNN_views...  \n"
     ]
    }
   ],
   "source": [
    "print(df.head(2)) "
   ]
  },
  {
   "cell_type": "code",
   "execution_count": 9,
   "metadata": {},
   "outputs": [
    {
     "name": "stdout",
     "output_type": "stream",
     "text": [
      "          Lower_lobe_segmental_status  \\\n",
      "UA240677                            0   \n",
      "LA190608                            0   \n",
      "\n",
      "                                                  txtImages  \n",
      "UA240677  /Shared/CTmechanics_COPDGene/Amin/MV_CNN_views...  \n",
      "LA190608  /Shared/CTmechanics_COPDGene/Amin/MV_CNN_views...  \n"
     ]
    }
   ],
   "source": [
    "random.seed(0)\n",
    "#random.shuffle(images)\n",
    "images = df.sample(frac=1,random_state=1)\n",
    "print(images.head(2))"
   ]
  },
  {
   "cell_type": "markdown",
   "metadata": {},
   "source": [
    "#### Make list of images for Train, Test and Validation"
   ]
  },
  {
   "cell_type": "code",
   "execution_count": 10,
   "metadata": {},
   "outputs": [
    {
     "name": "stdout",
     "output_type": "stream",
     "text": [
      "2409\n"
     ]
    }
   ],
   "source": [
    "n = len(images)\n",
    "print(n)\n",
    "\n",
    "sets = {'train':images[:int(n*.6)],\n",
    "        'validation':images[int(n*.6):int(n*.8)],\n",
    "        'test':images[int(n*.8):]}\n",
    "\n",
    "#print(images.Lower_lobe_segmental_status.values)\n",
    "\n",
    "c=1\n",
    "for setName, imageList in sets.items():\n",
    "    thefile = open(os.path.join(RootFolder,'sets',setName+'.txt'), 'w')\n",
    "    #print(setName,imageList.shape)\n",
    "    \n",
    "    for sid, item in imageList.iterrows():\n",
    "        line = '{} {}\\n'.format(item.txtImages, 1)\n",
    "        line = '{} {}\\n'.format(item.txtImages, item.Lower_lobe_segmental_status)\n",
    "        #print(line)\n",
    "        thefile.write(line)\n",
    "    thefile.close()\n",
    "   "
   ]
  },
  {
   "cell_type": "code",
   "execution_count": 11,
   "metadata": {},
   "outputs": [
    {
     "name": "stdout",
     "output_type": "stream",
     "text": [
      "MU162884\n"
     ]
    }
   ],
   "source": [
    "print(sid)"
   ]
  },
  {
   "cell_type": "code",
   "execution_count": 21,
   "metadata": {},
   "outputs": [
    {
     "name": "stdout",
     "output_type": "stream",
     "text": [
      "(128, 128)\n"
     ]
    }
   ],
   "source": [
    "size = (128, 128)\n",
    "print(size)"
   ]
  },
  {
   "cell_type": "code",
   "execution_count": 19,
   "metadata": {},
   "outputs": [
    {
     "data": {
      "text/plain": [
       "'utf-8'"
      ]
     },
     "execution_count": 19,
     "metadata": {},
     "output_type": "execute_result"
    }
   ],
   "source": [
    "sys.getdefaultencoding()"
   ]
  },
  {
   "cell_type": "code",
   "execution_count": 20,
   "metadata": {},
   "outputs": [],
   "source": [
    "import numpy as np\n",
    "def stable_softmax(X):\n",
    "    exps = np.exp(X - np.max(X))\n",
    "    return exps / np.sum(exps)"
   ]
  },
  {
   "cell_type": "code",
   "execution_count": 21,
   "metadata": {},
   "outputs": [],
   "source": [
    "sm = (stable_softmax([947,621]))\n",
    "logsm = -np.log(sm)"
   ]
  },
  {
   "cell_type": "code",
   "execution_count": 22,
   "metadata": {},
   "outputs": [
    {
     "name": "stdout",
     "output_type": "stream",
     "text": [
      "[1.00000000e+000 2.63026133e-142] [ -0. 326.]\n",
      "115.28442906574395\n"
     ]
    }
   ],
   "source": [
    "print(sm,logsm)\n",
    "print(sum(logsm*[934, 511])/1445)"
   ]
  },
  {
   "cell_type": "code",
   "execution_count": null,
   "metadata": {},
   "outputs": [],
   "source": []
  }
 ],
 "metadata": {
  "kernelspec": {
   "display_name": "Python 3",
   "language": "python",
   "name": "python3"
  },
  "language_info": {
   "codemirror_mode": {
    "name": "ipython",
    "version": 3
   },
   "file_extension": ".py",
   "mimetype": "text/x-python",
   "name": "python",
   "nbconvert_exporter": "python",
   "pygments_lexer": "ipython3",
   "version": "3.6.4"
  }
 },
 "nbformat": 4,
 "nbformat_minor": 2
}
